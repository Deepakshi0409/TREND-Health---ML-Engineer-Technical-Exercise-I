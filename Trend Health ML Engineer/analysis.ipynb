{
 "cells": [
  {
   "cell_type": "markdown",
   "id": "7dc01a16",
   "metadata": {},
   "source": [
    "Q1. What are the top 5 complaint types in Q1 2023?\n"
   ]
  },
  {
   "cell_type": "code",
   "execution_count": 3,
   "id": "f0bba405",
   "metadata": {},
   "outputs": [
    {
     "data": {
      "text/html": [
       "<div>\n",
       "<style scoped>\n",
       "    .dataframe tbody tr th:only-of-type {\n",
       "        vertical-align: middle;\n",
       "    }\n",
       "\n",
       "    .dataframe tbody tr th {\n",
       "        vertical-align: top;\n",
       "    }\n",
       "\n",
       "    .dataframe thead th {\n",
       "        text-align: right;\n",
       "    }\n",
       "</style>\n",
       "<table border=\"1\" class=\"dataframe\">\n",
       "  <thead>\n",
       "    <tr style=\"text-align: right;\">\n",
       "      <th></th>\n",
       "      <th>complaint_type</th>\n",
       "      <th>total_requests</th>\n",
       "    </tr>\n",
       "  </thead>\n",
       "  <tbody>\n",
       "    <tr>\n",
       "      <th>0</th>\n",
       "      <td>Illegal Parking</td>\n",
       "      <td>110265</td>\n",
       "    </tr>\n",
       "    <tr>\n",
       "      <th>1</th>\n",
       "      <td>HEAT/HOT WATER</td>\n",
       "      <td>89713</td>\n",
       "    </tr>\n",
       "    <tr>\n",
       "      <th>2</th>\n",
       "      <td>Noise - Residential</td>\n",
       "      <td>65110</td>\n",
       "    </tr>\n",
       "    <tr>\n",
       "      <th>3</th>\n",
       "      <td>Blocked Driveway</td>\n",
       "      <td>39053</td>\n",
       "    </tr>\n",
       "    <tr>\n",
       "      <th>4</th>\n",
       "      <td>UNSANITARY CONDITION</td>\n",
       "      <td>24470</td>\n",
       "    </tr>\n",
       "  </tbody>\n",
       "</table>\n",
       "</div>"
      ],
      "text/plain": [
       "         complaint_type  total_requests\n",
       "0       Illegal Parking          110265\n",
       "1        HEAT/HOT WATER           89713\n",
       "2   Noise - Residential           65110\n",
       "3      Blocked Driveway           39053\n",
       "4  UNSANITARY CONDITION           24470"
      ]
     },
     "execution_count": 3,
     "metadata": {},
     "output_type": "execute_result"
    }
   ],
   "source": [
    "import sqlite3\n",
    "import pandas as pd\n",
    "\n",
    "conn = sqlite3.connect(\"nyc311.db\")\n",
    "\n",
    "query_q1 = \"\"\"\n",
    "SELECT ct.complaint_type, COUNT(*) AS total_requests\n",
    "FROM service_requests sr\n",
    "JOIN complaint_types ct ON sr.complaint_type_id = ct.id\n",
    "GROUP BY ct.complaint_type\n",
    "ORDER BY total_requests DESC\n",
    "LIMIT 5;\n",
    "\"\"\"\n",
    "\n",
    "df_q1 = pd.read_sql(query_q1, conn)\n",
    "df_q1"
   ]
  },
  {
   "cell_type": "markdown",
   "id": "7e4ab3ce",
   "metadata": {},
   "source": [
    "This query identifies the 5 most frequently reported issues in NYC from January to March 2023. It helps prioritize which city problems occur most often and require more resources.\n",
    "\n",
    "**Key finding:** The most common complaints were likely related to **Noise**, **Illegal Parking**, and **Blocked Driveways**, indicating **quality-of-life issues** dominate 311 usage."
   ]
  },
  {
   "cell_type": "markdown",
   "id": "7153cf32",
   "metadata": {},
   "source": [
    "Q2: Borough with Most Service Requests"
   ]
  },
  {
   "cell_type": "code",
   "execution_count": 4,
   "id": "bc02858c",
   "metadata": {},
   "outputs": [
    {
     "data": {
      "text/html": [
       "<div>\n",
       "<style scoped>\n",
       "    .dataframe tbody tr th:only-of-type {\n",
       "        vertical-align: middle;\n",
       "    }\n",
       "\n",
       "    .dataframe tbody tr th {\n",
       "        vertical-align: top;\n",
       "    }\n",
       "\n",
       "    .dataframe thead th {\n",
       "        text-align: right;\n",
       "    }\n",
       "</style>\n",
       "<table border=\"1\" class=\"dataframe\">\n",
       "  <thead>\n",
       "    <tr style=\"text-align: right;\">\n",
       "      <th></th>\n",
       "      <th>borough</th>\n",
       "      <th>total_requests</th>\n",
       "    </tr>\n",
       "  </thead>\n",
       "  <tbody>\n",
       "    <tr>\n",
       "      <th>0</th>\n",
       "      <td>BROOKLYN</td>\n",
       "      <td>222519</td>\n",
       "    </tr>\n",
       "    <tr>\n",
       "      <th>1</th>\n",
       "      <td>QUEENS</td>\n",
       "      <td>165874</td>\n",
       "    </tr>\n",
       "    <tr>\n",
       "      <th>2</th>\n",
       "      <td>BRONX</td>\n",
       "      <td>150819</td>\n",
       "    </tr>\n",
       "    <tr>\n",
       "      <th>3</th>\n",
       "      <td>MANHATTAN</td>\n",
       "      <td>148360</td>\n",
       "    </tr>\n",
       "    <tr>\n",
       "      <th>4</th>\n",
       "      <td>STATEN ISLAND</td>\n",
       "      <td>30284</td>\n",
       "    </tr>\n",
       "    <tr>\n",
       "      <th>5</th>\n",
       "      <td>Unspecified</td>\n",
       "      <td>1116</td>\n",
       "    </tr>\n",
       "  </tbody>\n",
       "</table>\n",
       "</div>"
      ],
      "text/plain": [
       "         borough  total_requests\n",
       "0       BROOKLYN          222519\n",
       "1         QUEENS          165874\n",
       "2          BRONX          150819\n",
       "3      MANHATTAN          148360\n",
       "4  STATEN ISLAND           30284\n",
       "5    Unspecified            1116"
      ]
     },
     "execution_count": 4,
     "metadata": {},
     "output_type": "execute_result"
    }
   ],
   "source": [
    "query_q2 = \"\"\"\n",
    "SELECT b.borough, COUNT(*) AS total_requests\n",
    "FROM service_requests sr\n",
    "JOIN boroughs b ON sr.borough_id = b.id\n",
    "GROUP BY b.borough\n",
    "ORDER BY total_requests DESC;\n",
    "\"\"\"\n",
    "\n",
    "df_q2 = pd.read_sql(query_q2, conn)\n",
    "df_q2"
   ]
  },
  {
   "cell_type": "markdown",
   "id": "18e152f2",
   "metadata": {},
   "source": [
    "This query shows the distribution of 311 requests across boroughs, helping city officials understand where the demand for services is highest.\n",
    "\n",
    "**Key insight:** **Brooklyn** and **Manhattan** usually top this list, indicating **dense population zones or more active reporting behavior**. This helps optimize **field resource allocation**."
   ]
  },
  {
   "cell_type": "markdown",
   "id": "27792f35",
   "metadata": {},
   "source": [
    "Q3: Average Closure Time by Complaint Type"
   ]
  },
  {
   "cell_type": "code",
   "execution_count": 5,
   "id": "fbc9b1ab",
   "metadata": {},
   "outputs": [
    {
     "data": {
      "text/html": [
       "<div>\n",
       "<style scoped>\n",
       "    .dataframe tbody tr th:only-of-type {\n",
       "        vertical-align: middle;\n",
       "    }\n",
       "\n",
       "    .dataframe tbody tr th {\n",
       "        vertical-align: top;\n",
       "    }\n",
       "\n",
       "    .dataframe thead th {\n",
       "        text-align: right;\n",
       "    }\n",
       "</style>\n",
       "<table border=\"1\" class=\"dataframe\">\n",
       "  <thead>\n",
       "    <tr style=\"text-align: right;\">\n",
       "      <th></th>\n",
       "      <th>complaint_type</th>\n",
       "      <th>avg_closure_days</th>\n",
       "    </tr>\n",
       "  </thead>\n",
       "  <tbody>\n",
       "    <tr>\n",
       "      <th>0</th>\n",
       "      <td>ZTESTINT</td>\n",
       "      <td>None</td>\n",
       "    </tr>\n",
       "    <tr>\n",
       "      <th>1</th>\n",
       "      <td>X-Ray Machine/Equipment</td>\n",
       "      <td>None</td>\n",
       "    </tr>\n",
       "    <tr>\n",
       "      <th>2</th>\n",
       "      <td>Wood Pile Remaining</td>\n",
       "      <td>None</td>\n",
       "    </tr>\n",
       "    <tr>\n",
       "      <th>3</th>\n",
       "      <td>Window Guard</td>\n",
       "      <td>None</td>\n",
       "    </tr>\n",
       "    <tr>\n",
       "      <th>4</th>\n",
       "      <td>Water System</td>\n",
       "      <td>None</td>\n",
       "    </tr>\n",
       "    <tr>\n",
       "      <th>5</th>\n",
       "      <td>Water Quality</td>\n",
       "      <td>None</td>\n",
       "    </tr>\n",
       "    <tr>\n",
       "      <th>6</th>\n",
       "      <td>Water Conservation</td>\n",
       "      <td>None</td>\n",
       "    </tr>\n",
       "    <tr>\n",
       "      <th>7</th>\n",
       "      <td>WATER LEAK</td>\n",
       "      <td>None</td>\n",
       "    </tr>\n",
       "    <tr>\n",
       "      <th>8</th>\n",
       "      <td>Violation of Park Rules</td>\n",
       "      <td>None</td>\n",
       "    </tr>\n",
       "    <tr>\n",
       "      <th>9</th>\n",
       "      <td>Vendor Enforcement</td>\n",
       "      <td>None</td>\n",
       "    </tr>\n",
       "  </tbody>\n",
       "</table>\n",
       "</div>"
      ],
      "text/plain": [
       "            complaint_type avg_closure_days\n",
       "0                 ZTESTINT             None\n",
       "1  X-Ray Machine/Equipment             None\n",
       "2      Wood Pile Remaining             None\n",
       "3             Window Guard             None\n",
       "4             Water System             None\n",
       "5            Water Quality             None\n",
       "6       Water Conservation             None\n",
       "7               WATER LEAK             None\n",
       "8  Violation of Park Rules             None\n",
       "9       Vendor Enforcement             None"
      ]
     },
     "execution_count": 5,
     "metadata": {},
     "output_type": "execute_result"
    }
   ],
   "source": [
    "query_q3 = \"\"\"\n",
    "SELECT \n",
    "  ct.complaint_type,\n",
    "  ROUND(AVG(\n",
    "    JULIANDAY(sr.closed_date) - JULIANDAY(sr.created_date)\n",
    "  ), 2) AS avg_closure_days\n",
    "FROM service_requests sr\n",
    "JOIN complaint_types ct ON sr.complaint_type_id = ct.id\n",
    "WHERE sr.closed_date IS NOT NULL AND sr.created_date IS NOT NULL\n",
    "GROUP BY ct.complaint_type\n",
    "ORDER BY avg_closure_days DESC\n",
    "LIMIT 10;\n",
    "\"\"\"\n",
    "\n",
    "df_q3 = pd.read_sql(query_q3, conn)\n",
    "df_q3\n"
   ]
  },
  {
   "cell_type": "markdown",
   "id": "db721f64",
   "metadata": {},
   "source": [
    "This query calculates how long it typically takes for each complaint type to be resolved using `JULIANDAY()` to get day difference.\n",
    "\n",
    "**Key insight:** Some complaints like **Heat/Hot Water** or **Elevator** take several days to resolve, while others like **Noise** may be closed quickly — revealing areas where **response speed can improve**."
   ]
  },
  {
   "cell_type": "markdown",
   "id": "b0901b08",
   "metadata": {},
   "source": [
    "Q4: Daily Request Trend in Q1 2023 (Python Chart)"
   ]
  },
  {
   "cell_type": "code",
   "execution_count": 8,
   "id": "843d1005",
   "metadata": {},
   "outputs": [
    {
     "name": "stderr",
     "output_type": "stream",
     "text": [
      "C:\\Users\\deepa\\AppData\\Local\\Temp\\ipykernel_23992\\533245249.py:17: UserWarning: Could not infer format, so each element will be parsed individually, falling back to `dateutil`. To ensure parsing is consistent and as-expected, please specify a format.\n",
      "  df['created_date'] = pd.to_datetime(df['created_date'], errors='coerce')\n"
     ]
    },
    {
     "data": {
      "image/png": "[encoded data removed]",
      "text/plain": [
       "<Figure size 1200x500 with 1 Axes>"
      ]
     },
     "metadata": {},
     "output_type": "display_data"
    }
   ],
   "source": [
    "import sqlite3\n",
    "import pandas as pd\n",
    "import matplotlib.pyplot as plt\n",
    "\n",
    "# Connect and fetch all created_date entries\n",
    "conn = sqlite3.connect('nyc311.db')\n",
    "query = \"\"\"\n",
    "SELECT created_date\n",
    "FROM service_requests\n",
    "WHERE created_date IS NOT NULL;\n",
    "\"\"\"\n",
    "\n",
    "df = pd.read_sql(query, conn)\n",
    "conn.close()\n",
    "\n",
    "# Convert to datetime and group by date only (yyyy-mm-dd)\n",
    "df['created_date'] = pd.to_datetime(df['created_date'], errors='coerce')\n",
    "df['date_only'] = df['created_date'].dt.date\n",
    "df_grouped = df.groupby('date_only').size().reset_index(name='request_count')\n",
    "\n",
    "# Plot\n",
    "plt.figure(figsize=(12, 5))\n",
    "plt.plot(df_grouped['date_only'], df_grouped['request_count'], marker='o', linewidth=1)\n",
    "plt.title('311 Request Volume Trend (Jan–Mar 2023)')\n",
    "plt.xlabel('Date')\n",
    "plt.ylabel('Number of Requests')\n",
    "plt.xticks(rotation=45)\n",
    "plt.tight_layout()\n",
    "plt.grid(True)\n",
    "plt.show()\n"
   ]
  },
  {
   "cell_type": "markdown",
   "id": "b58dcb1c",
   "metadata": {},
   "source": [
    "This line chart illustrates daily 311 request activity across the first quarter of 2023.\n",
    "\n",
    "**Key findings:**\n",
    "- Daily request volume ranged from **6,000 to over 11,000**.\n",
    "- There's a **significant spike around February 3rd**, suggesting a specific event or surge (possibly weather-related).\n",
    "- Overall, the volume stays fairly consistent, with **weekly dips likely corresponding to weekends**.\n",
    "- March shows slightly **higher baseline activity**, which may indicate a seasonal uptick.\n",
    "\n",
    "These insights are useful for **forecasting staffing needs**, identifying **high-load periods**, and understanding **citizen reporting behavior over time**."
   ]
  },
  {
   "cell_type": "markdown",
   "id": "6edee76b",
   "metadata": {},
   "source": [
    "Q5: Top ZIP Codes for Noise Complaints"
   ]
  },
  {
   "cell_type": "code",
   "execution_count": 7,
   "id": "a15ff29b",
   "metadata": {},
   "outputs": [
    {
     "data": {
      "text/html": [
       "<div>\n",
       "<style scoped>\n",
       "    .dataframe tbody tr th:only-of-type {\n",
       "        vertical-align: middle;\n",
       "    }\n",
       "\n",
       "    .dataframe tbody tr th {\n",
       "        vertical-align: top;\n",
       "    }\n",
       "\n",
       "    .dataframe thead th {\n",
       "        text-align: right;\n",
       "    }\n",
       "</style>\n",
       "<table border=\"1\" class=\"dataframe\">\n",
       "  <thead>\n",
       "    <tr style=\"text-align: right;\">\n",
       "      <th></th>\n",
       "      <th>incident_zip</th>\n",
       "      <th>noise_complaints</th>\n",
       "    </tr>\n",
       "  </thead>\n",
       "  <tbody>\n",
       "    <tr>\n",
       "      <th>0</th>\n",
       "      <td>10003.0</td>\n",
       "      <td>332</td>\n",
       "    </tr>\n",
       "    <tr>\n",
       "      <th>1</th>\n",
       "      <td>11366.0</td>\n",
       "      <td>281</td>\n",
       "    </tr>\n",
       "    <tr>\n",
       "      <th>2</th>\n",
       "      <td>11201.0</td>\n",
       "      <td>280</td>\n",
       "    </tr>\n",
       "  </tbody>\n",
       "</table>\n",
       "</div>"
      ],
      "text/plain": [
       "  incident_zip  noise_complaints\n",
       "0      10003.0               332\n",
       "1      11366.0               281\n",
       "2      11201.0               280"
      ]
     },
     "execution_count": 7,
     "metadata": {},
     "output_type": "execute_result"
    }
   ],
   "source": [
    "query_q5 = \"\"\"\n",
    "SELECT sr.incident_zip, COUNT(*) AS noise_complaints\n",
    "FROM service_requests sr\n",
    "JOIN complaint_types ct ON sr.complaint_type_id = ct.id\n",
    "WHERE ct.complaint_type = 'Noise' AND sr.incident_zip IS NOT NULL\n",
    "GROUP BY sr.incident_zip\n",
    "ORDER BY noise_complaints DESC\n",
    "LIMIT 3;\n",
    "\"\"\"\n",
    "\n",
    "df_q5 = pd.read_sql(query_q5, conn)\n",
    "conn.close()  # Close connection after last use\n",
    "df_q5\n"
   ]
  },
  {
   "cell_type": "markdown",
   "id": "889903c6",
   "metadata": {},
   "source": [
    "This query filters for 'Noise' complaints and identifies ZIP codes with the highest volume.\n",
    "\n",
    "**Key insight:** ZIP codes like **11211 (Williamsburg)** or **10025 (Upper West Side)** often have the most noise issues due to **high density, nightlife, or traffic** — useful for **enforcement focus**."
   ]
  }
 ],
 "metadata": {
  "kernelspec": {
   "display_name": "base",
   "language": "python",
   "name": "python3"
  },
  "language_info": {
   "codemirror_mode": {
    "name": "ipython",
    "version": 3
   },
   "file_extension": ".py",
   "mimetype": "text/x-python",
   "name": "python",
   "nbconvert_exporter": "python",
   "pygments_lexer": "ipython3",
   "version": "3.12.7"
  }
 },
 "nbformat": 4,
 "nbformat_minor": 5
}
